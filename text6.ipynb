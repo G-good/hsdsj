{
 "cells": [
  {
   "cell_type": "code",
   "execution_count": 1,
   "id": "efe54641-13b7-4aed-b8fd-3384fd1dbd27",
   "metadata": {},
   "outputs": [],
   "source": [
    "def f(x, y):\n",
    "    return x**2 + y**2"
   ]
  },
  {
   "cell_type": "code",
   "execution_count": 2,
   "id": "0cbebc3c-ef60-4240-87bc-26919105c0ab",
   "metadata": {},
   "outputs": [
    {
     "ename": "ModuleNotFoundError",
     "evalue": "No module named 'torch'",
     "output_type": "error",
     "traceback": [
      "\u001b[1;31m---------------------------------------------------------------------------\u001b[0m",
      "\u001b[1;31mModuleNotFoundError\u001b[0m                       Traceback (most recent call last)",
      "\u001b[1;32m~\\AppData\\Local\\Temp/ipykernel_10488/359338956.py\u001b[0m in \u001b[0;36m<module>\u001b[1;34m\u001b[0m\n\u001b[1;32m----> 1\u001b[1;33m \u001b[1;32mimport\u001b[0m \u001b[0mtorch\u001b[0m\u001b[1;33m\u001b[0m\u001b[1;33m\u001b[0m\u001b[0m\n\u001b[0m\u001b[0;32m      2\u001b[0m \u001b[1;32mimport\u001b[0m \u001b[0mnumpy\u001b[0m \u001b[1;32mas\u001b[0m \u001b[0mnp\u001b[0m\u001b[1;33m\u001b[0m\u001b[1;33m\u001b[0m\u001b[0m\n\u001b[0;32m      3\u001b[0m \u001b[1;32mimport\u001b[0m \u001b[0mmatplotlib\u001b[0m\u001b[1;33m.\u001b[0m\u001b[0mpyplot\u001b[0m \u001b[1;32mas\u001b[0m \u001b[0mplt\u001b[0m\u001b[1;33m\u001b[0m\u001b[1;33m\u001b[0m\u001b[0m\n\u001b[0;32m      4\u001b[0m \u001b[1;32mfrom\u001b[0m \u001b[0mmpl_toolkits\u001b[0m\u001b[1;33m.\u001b[0m\u001b[0mmplot3d\u001b[0m \u001b[1;32mimport\u001b[0m \u001b[0mAxes3D\u001b[0m\u001b[1;33m\u001b[0m\u001b[1;33m\u001b[0m\u001b[0m\n\u001b[0;32m      5\u001b[0m \u001b[0mlearning_rate\u001b[0m \u001b[1;33m=\u001b[0m \u001b[1;36m0.1\u001b[0m\u001b[1;33m\u001b[0m\u001b[1;33m\u001b[0m\u001b[0m\n",
      "\u001b[1;31mModuleNotFoundError\u001b[0m: No module named 'torch'"
     ]
    }
   ],
   "source": [
    "import torch\n",
    "import numpy as np\n",
    "import matplotlib.pyplot as plt\n",
    "from mpl_toolkits.mplot3d import Axes3D\n",
    "learning_rate = 0.1\n",
    "num_iterations = 20\n",
    "x0 = -1.0\n",
    "y0 = -0.5\n",
    "# 记录函数值\n",
    "loss_values = []\n",
    "\n",
    "x_values = [x0]\n",
    "y_values = [y0]\n",
    "# 执行梯度下降并记录函数值\n",
    "x = torch.tensor(x0, requires_grad=True)\n",
    "y = torch.tensor(y0, requires_grad=True)\n",
    "for i in range(num_iterations):\n",
    "    loss = f(x, y)\n",
    "    loss_values.append(loss.item())\n",
    "    loss.backward()\n",
    "    with torch.no_grad():\n",
    "        x -= learning_rate * x.grad\n",
    "        y -= learning_rate * y.grad\n",
    "        x.grad.zero_()\n",
    "        y.grad.zero_()\n",
    "    x_values.append(x.item())\n",
    "    y_values.append(y.item())\n",
    "    plt.plot(loss_values)\n",
    "plt.xlabel('Iteration')\n",
    "plt.ylabel('Loss')\n",
    "plt.title('Gradient Descent Loss Curve')\n",
    "plt.show()\n",
    "x = np.linspace(-2, 2, 100)\n",
    "y = np.linspace(-1, 1, 100)\n",
    "X, Y = np.meshgrid(x, y)\n",
    "Z = f(X, Y)\n",
    "\n",
    "fig = plt.figure()\n",
    "ax = fig.add_subplot(111, projection='3d')\n",
    "ax.plot_surface(X, Y, Z, cmap='viridis', alpha=0.5)\n",
    "ax.scatter(x_values, y_values, [f(x_val, y_val) for x_val, y_val in zip(x_values, y_values)], color='r')\n",
    "\n",
    "for i in range(1, len(x_values)):\n",
    "    x1, y1 = x_values[i-1], y_values[i-1]\n",
    "    x2, y2 = x_values[i], y_values[i]\n",
    "    u = x2 - x1\n",
    "    v = y2 - y1\n",
    "    w = f(x2, y2) - f(x1, y1)\n",
    "    z1 = f(x1, y1)\n",
    "    z2 = f(x2, y2)\n",
    "    length = np.sqrt((x2 - x1)**2 + (y2 - y1)**2 + (z2 - z1)**2)\n",
    "    ax.quiver(x1, y1, f(x1, y1), u, v, w, length=length, normalize=True)\n",
    "\n",
    "ax.set_xlabel('X')\n",
    "ax.set_ylabel('Y')\n",
    "ax.set_zlabel('Z')\n",
    "plt.show（）"
   ]
  },
  {
   "cell_type": "code",
   "execution_count": null,
   "id": "438c9d89-6210-4d0b-bcc1-cef9017720e7",
   "metadata": {},
   "outputs": [],
   "source": []
  }
 ],
 "metadata": {
  "kernelspec": {
   "display_name": "Python 3 (ipykernel)",
   "language": "python",
   "name": "python3"
  },
  "language_info": {
   "codemirror_mode": {
    "name": "ipython",
    "version": 3
   },
   "file_extension": ".py",
   "mimetype": "text/x-python",
   "name": "python",
   "nbconvert_exporter": "python",
   "pygments_lexer": "ipython3",
   "version": "3.9.7"
  }
 },
 "nbformat": 4,
 "nbformat_minor": 5
}
