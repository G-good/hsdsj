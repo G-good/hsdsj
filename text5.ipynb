{
 "cells": [
  {
   "cell_type": "code",
   "execution_count": 3,
   "id": "73a8213c-ed00-408d-abf8-ebdeb8313fba",
   "metadata": {},
   "outputs": [
    {
     "name": "stdout",
     "output_type": "stream",
     "text": [
      "VideoObject(id='51641732172482989-9221302171361367926', model='cogvideox', video_result=None, task_status='PROCESSING', request_id='-9221302171361367927')\n"
     ]
    }
   ],
   "source": [
    "from zhipuai import ZhipuAI\n",
    "client = ZhipuAI(api_key=\"44197090488f186a2f2089539f1f795c.HoDdmDgcI7HeCMGn\")\n",
    "\n",
    "response = client.videos.generations(\n",
    "    model = \"cogvideox\",\n",
    "    prompt = \"世界毁灭\"\n",
    ")\n",
    "print(response)"
   ]
  },
  {
   "cell_type": "code",
   "execution_count": 5,
   "id": "42312fc3-ab2b-4313-8bb1-7f0fe5375d55",
   "metadata": {},
   "outputs": [
    {
     "name": "stdout",
     "output_type": "stream",
     "text": [
      "VideoObject(id=None, model='cogvideox', video_result=[VideoResult(url='https://aigc-files.bigmodel.cn/api/cogvideo/80d406b0-a7d8-11ef-bd78-9ee7942420ea_0.mp4', cover_image_url='https://aigc-files.bigmodel.cn/api/cogvideo/80d406b0-a7d8-11ef-bd78-9ee7942420ea_cover_0.jpeg')], task_status='SUCCESS', request_id='-9221302171361367927')\n"
     ]
    }
   ],
   "source": [
    "from zhipuai import ZhipuAI\n",
    "client = ZhipuAI(api_key=\"44197090488f186a2f2089539f1f795c.HoDdmDgcI7HeCMGn\")\n",
    "\n",
    "response = client.videos.retrieve_videos_result(\n",
    "    id = \"51641732172482989-9221302171361367926\"\n",
    ")\n",
    "print(response)"
   ]
  },
  {
   "cell_type": "code",
   "execution_count": 107,
   "id": "0d660594-ddfb-40c6-a1b4-b893720f2316",
   "metadata": {},
   "outputs": [
    {
     "name": "stdout",
     "output_type": "stream",
     "text": [
      "VideoObject(id='51641732172482989-9221302274440664089', model='cogvideox', video_result=None, task_status='PROCESSING', request_id='-9221302274440664090')\n"
     ]
    }
   ],
   "source": [
    "from zhipuai import ZhipuAI\n",
    "client = ZhipuAI(api_key=\"44197090488f186a2f2089539f1f795c.HoDdmDgcI7HeCMGn\")\n",
    "\n",
    "response = client.videos.generations(\n",
    "    model = \"cogvideox\",\n",
    "    prompt = \"做传销的人被枪毙\"\n",
    ")\n",
    "print(response)"
   ]
  },
  {
   "cell_type": "code",
   "execution_count": 111,
   "id": "024ef917-6ff8-49a4-a07f-780f0431730b",
   "metadata": {},
   "outputs": [
    {
     "name": "stdout",
     "output_type": "stream",
     "text": [
      "VideoObject(id=None, model='cogvideox', video_result=[VideoResult(url='https://aigc-files.bigmodel.cn/api/cogvideo/d2879dd4-a7db-11ef-bd78-9ee7942420ea_0.mp4', cover_image_url='https://aigc-files.bigmodel.cn/api/cogvideo/d2879dd4-a7db-11ef-bd78-9ee7942420ea_cover_0.jpeg')], task_status='SUCCESS', request_id='-9221302274440664090')\n"
     ]
    }
   ],
   "source": [
    "from zhipuai import ZhipuAI\n",
    "client = ZhipuAI(api_key=\"44197090488f186a2f2089539f1f795c.HoDdmDgcI7HeCMGn\")\n",
    "\n",
    "response = client.videos.retrieve_videos_result(\n",
    "    id = \"51641732172482989-9221302274440664089\"\n",
    ")\n",
    "print(response)"
   ]
  },
  {
   "cell_type": "code",
   "execution_count": null,
   "id": "bdf77e2e-b355-4156-baa1-55efe3b2f955",
   "metadata": {},
   "outputs": [],
   "source": []
  },
  {
   "cell_type": "code",
   "execution_count": null,
   "id": "995be516-b7bc-4170-a9e6-8a069d19dcfd",
   "metadata": {},
   "outputs": [],
   "source": []
  },
  {
   "cell_type": "code",
   "execution_count": null,
   "id": "87b35b52-e788-4aee-b851-bc1bf50c7ba1",
   "metadata": {},
   "outputs": [],
   "source": []
  },
  {
   "cell_type": "code",
   "execution_count": null,
   "id": "10197f98-3c2c-4042-8222-78178240f415",
   "metadata": {},
   "outputs": [],
   "source": []
  },
  {
   "cell_type": "code",
   "execution_count": null,
   "id": "5d20a211-9741-4157-ac72-b8cf66326528",
   "metadata": {},
   "outputs": [],
   "source": []
  }
 ],
 "metadata": {
  "kernelspec": {
   "display_name": "Python 3 (ipykernel)",
   "language": "python",
   "name": "python3"
  },
  "language_info": {
   "codemirror_mode": {
    "name": "ipython",
    "version": 3
   },
   "file_extension": ".py",
   "mimetype": "text/x-python",
   "name": "python",
   "nbconvert_exporter": "python",
   "pygments_lexer": "ipython3",
   "version": "3.9.7"
  }
 },
 "nbformat": 4,
 "nbformat_minor": 5
}
